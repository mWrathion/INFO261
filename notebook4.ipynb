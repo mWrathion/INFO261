{
 "cells": [
  {
   "cell_type": "code",
   "execution_count": null,
   "metadata": {},
   "outputs": [],
   "source": [
    "1) Diseñar una API a partir de un caso de uso que ustedes definen (por ejemplo, puede ser el caso de uso que han definido la semana pasada sobre el tema de SmartCity)"
   ]
  },
  {
   "cell_type": "code",
   "execution_count": 1,
   "metadata": {},
   "outputs": [],
   "source": [
    "import mysql.connector\n",
    "import pandas as pd\n",
    "from IPython.display import display,HTML\n",
    "\n",
    "conn = mysql.connector.connect(user=\"root\",host=\"localhost\",password=\"root\")\n",
    "cursor = conn.cursor()\n",
    "\n",
    "cursor.execute(\"CREATE DATABASE IF NOT EXISTS RESTAURANT;\")\n",
    "cursor.execute(\"USE RESTAURANT;\")\n",
    "cursor.execute(\"SET FOREIGN_KEY_CHECKS=0;\")\n",
    "cursor.execute(\"DROP TABLE IF EXISTS ORDER_TABLE;\")\n",
    "cursor.execute(\"DROP TABLE IF EXISTS ITEM;\")\n",
    "cursor.execute(\"SET FOREIGN_KEY_CHECKS=1;\")\n",
    "cursor.execute(\"CREATE TABLE IF NOT EXISTS ORDER_TABLE(id INT NOT NULL AUTO_INCREMENT, \\\n",
    "               NOMBRE_CLIENTE VARCHAR(45), \\\n",
    "               PRIMARY KEY (id))ENGINE=InnoDB DEFAULT CHARSET=utf8;\")\n",
    "cursor.execute(\"CREATE TABLE IF NOT EXISTS ITEM(id INT NOT NULL AUTO_INCREMENT, \\\n",
    "               NOMBRE_ITEM VARCHAR(45) NOT NULL, \\\n",
    "               CANTIDAD INT NOT NULL, \\\n",
    "               FOREIGN KEY (id) REFERENCES ORDER_TABLE(id), \\\n",
    "               PRIMARY KEY (id, NOMBRE_ITEM))ENGINE=InnoDB DEFAULT CHARSET=utf8;\")\n",
    "cursor.execute(\"INSERT INTO ORDER_TABLE (id, NOMBRE_CLIENTE) VALUES (NULL, 'JUANITO');\")\n",
    "cursor.execute(\"INSERT INTO ORDER_TABLE (id, NOMBRE_CLIENTE) VALUES (NULL, 'PEDRITO');\")\n",
    "cursor.execute(\"INSERT INTO ORDER_TABLE (id, NOMBRE_CLIENTE) VALUES (NULL, 'JOSESITO');\")\n",
    "cursor.execute(\"INSERT INTO ORDER_TABLE (id, NOMBRE_CLIENTE) VALUES (NULL, 'PABLITO');\")\n",
    "cursor.execute(\"INSERT INTO ITEM(id, NOMBRE_ITEM, CANTIDAD) VALUES ((select id from ORDER_TABLE where NOMBRE_CLIENTE='JUANITO' LIMIT 1), 'LECHE', 1);\")\n",
    "cursor.execute(\"INSERT INTO ITEM(id, NOMBRE_ITEM, CANTIDAD) VALUES ((select id from ORDER_TABLE where NOMBRE_CLIENTE='PEDRITO' LIMIT 1), 'LECHE', 2);\")\n",
    "cursor.execute(\"INSERT INTO ITEM(id, NOMBRE_ITEM, CANTIDAD) VALUES ((select id from ORDER_TABLE where NOMBRE_CLIENTE='PEDRITO' LIMIT 1), 'CAFE', 4);\")\n",
    "cursor.execute(\"INSERT INTO ITEM(id, NOMBRE_ITEM, CANTIDAD) VALUES ((select id from ORDER_TABLE where NOMBRE_CLIENTE='JOSESITO' LIMIT 1), 'AZUCAR', 5);\")\n",
    "cursor.execute(\"INSERT INTO ITEM(id, NOMBRE_ITEM, CANTIDAD) VALUES ((select id from ORDER_TABLE where NOMBRE_CLIENTE='PABLITO' LIMIT 1), 'PAPAS', 2);\")\n",
    "cursor.execute(\"INSERT INTO ITEM(id, NOMBRE_ITEM, CANTIDAD) VALUES ((select id from ORDER_TABLE where NOMBRE_CLIENTE='PABLITO' LIMIT 1), 'PAN', 1);\")\n"
   ]
  },
  {
   "cell_type": "code",
   "execution_count": null,
   "metadata": {},
   "outputs": [],
   "source": [
    "2) Implementar su API"
   ]
  },
  {
   "cell_type": "code",
   "execution_count": null,
   "metadata": {},
   "outputs": [
    {
     "name": "stdout",
     "output_type": "stream",
     "text": [
      " * Serving Flask app \"__main__\" (lazy loading)\n",
      " * Environment: production\n",
      "   WARNING: Do not use the development server in a production environment.\n",
      "   Use a production WSGI server instead.\n",
      " * Debug mode: off\n"
     ]
    },
    {
     "name": "stderr",
     "output_type": "stream",
     "text": [
      " * Running on http://127.0.0.1:1234/ (Press CTRL+C to quit)\n",
      "127.0.0.1 - - [04/Nov/2018 16:53:32] \"GET /api/items HTTP/1.1\" 200 -\n"
     ]
    },
    {
     "name": "stdout",
     "output_type": "stream",
     "text": [
      "SELECT * FROM ITEM;\n"
     ]
    },
    {
     "name": "stderr",
     "output_type": "stream",
     "text": [
      "127.0.0.1 - - [04/Nov/2018 16:53:38] \"GET /api/orders HTTP/1.1\" 200 -\n"
     ]
    },
    {
     "name": "stdout",
     "output_type": "stream",
     "text": [
      "SELECT * FROM ITEM INNER JOIN ORDER_TABLE ON ITEM.id = ORDER_TABLE.id;\n"
     ]
    },
    {
     "name": "stderr",
     "output_type": "stream",
     "text": [
      "127.0.0.1 - - [04/Nov/2018 16:54:07] \"GET /api/orders/JUANITO HTTP/1.1\" 200 -\n"
     ]
    },
    {
     "name": "stdout",
     "output_type": "stream",
     "text": [
      "SELECT * FROM ITEM INNER JOIN ORDER_TABLE ON ITEM.id = ORDER_TABLE.id WHERE NOMBRE_CLIENTE='JUANITO';\n"
     ]
    }
   ],
   "source": [
    "import flask\n",
    "import json\n",
    "from flask import request, jsonify\n",
    "\n",
    "app = flask.Flask(__name__)\n",
    "\n",
    "@app.route('/', methods=['GET'])\n",
    "def home():\n",
    "    return '''\n",
    "    <h1>RESTAURANT</h1>\n",
    "    <h2>BIENVENIDO A LA API DEL RESTAURANT XD</h2>\n",
    "    '''\n",
    "\n",
    "@app.errorhandler(404)\n",
    "def page_not_found(e):\n",
    "    return \"<h1>404</h1><p>The resource could not be found.</p>\", 404\n",
    "\n",
    "@app.route('/api/items')\n",
    "def items():\n",
    "    query = \"SELECT * FROM ITEM\"\n",
    "    query_parameters = request.args\n",
    "    nombre = query_parameters.get('name')\n",
    "    cantidad = query_parameters.get('cantidad')\n",
    "    if (nombre or cantidad):\n",
    "        query += \" WHERE \"\n",
    "    if (nombre):\n",
    "        query += \"NOMBRE_ITEM='\" + nombre +\"'\"\n",
    "    if (cantidad):\n",
    "        if (nombre):\n",
    "            query += \" AND\"\n",
    "        query += \" CANTIDAD=\" + cantidad\n",
    "    query += \";\"\n",
    "    print(query)\n",
    "    cursor.execute(query)\n",
    "    its = cursor.fetchall()\n",
    "    row_headers=[x[0] for x in cursor.description]\n",
    "    json_data=[]\n",
    "    for result in its:\n",
    "        json_data.append(dict(zip(row_headers,result)))\n",
    "    return jsonify(json_data)\n",
    "@app.route('/api/orders')\n",
    "def ordersAll():\n",
    "    query = \"SELECT * FROM ITEM INNER JOIN ORDER_TABLE ON ITEM.id = ORDER_TABLE.id;\"\n",
    "    print(query)\n",
    "    cursor.execute(query)\n",
    "    its = cursor.fetchall()\n",
    "    row_headers=[x[0] for x in cursor.description]\n",
    "    json_data=[]\n",
    "    for result in its:\n",
    "        json_data.append(dict(zip(row_headers,result)))\n",
    "    return jsonify(json_data)\n",
    "@app.route('/api/orders/<name>')\n",
    "def ordersSpecific(name):\n",
    "    query = \"SELECT * FROM ITEM INNER JOIN ORDER_TABLE ON ITEM.id = ORDER_TABLE.id WHERE NOMBRE_CLIENTE='\"\n",
    "    query += name + \"';\"\n",
    "    print(query)\n",
    "    cursor.execute(query)\n",
    "    its = cursor.fetchall()\n",
    "    row_headers=[x[0] for x in cursor.description]\n",
    "    json_data=[]\n",
    "    for result in its:\n",
    "        json_data.append(dict(zip(row_headers,result)))\n",
    "    return jsonify(json_data)\n",
    "app.run(debug=False,port=1234)"
   ]
  },
  {
   "cell_type": "code",
   "execution_count": null,
   "metadata": {},
   "outputs": [],
   "source": [
    "3) ¿Cómo podrían desplegar su API más allá de su computador local?"
   ]
  },
  {
   "cell_type": "code",
   "execution_count": null,
   "metadata": {},
   "outputs": [],
   "source": [
    "Podriamos desplegar la API de dos formas principalmente, primero, \n",
    "puede ser designando un computador como servidor habiendo previamente \n",
    "abierto los puertos del router al internet, y dejando el servidor \n",
    "funcionando de forma abierta en el puerto abierto.\n",
    "La segunda forma es consiguiendo un servidor remoto como por ejemplo AWS\n",
    "el cual está diseñado para esta funcion, el cual se le sube el script\n",
    "de la API y se deja disponible al internet.\n"
   ]
  },
  {
   "cell_type": "code",
   "execution_count": null,
   "metadata": {},
   "outputs": [],
   "source": [
    "4) ¿Observan algunas limitaciones al momento de crear una API web basada en MySQL?"
   ]
  },
  {
   "cell_type": "code",
   "execution_count": null,
   "metadata": {},
   "outputs": [],
   "source": [
    "La principal limitación que puedo observas es del hecho que la información no se maneja\n",
    "con el formato json, lo que es contraproducente con como se maneja la informacion\n",
    "generalmente en los protocolos web normales, lo que significa que antes de devolver\n",
    "la informacion de la solicitud siempre se requiere de un paso extra de parseo manual\n",
    "o semi-automatico a la forma que se desea manejar.\n",
    "La segunda limitación es que para hacer cada endpoint significa un tipo de solicitud\n",
    "distinto a la base de datos, lo cual implica un trabajo extra pensando en los posibles\n",
    "joins y subconsultas que la solicitud necesite."
   ]
  },
  {
   "cell_type": "code",
   "execution_count": null,
   "metadata": {},
   "outputs": [],
   "source": [
    "5) ¿Qué es el movimiento de <i>Open Data</i>? ¿En qué sentido podría aportar a la ciudad de Valdivia?"
   ]
  },
  {
   "cell_type": "code",
   "execution_count": null,
   "metadata": {},
   "outputs": [],
   "source": [
    "El movimiento Open Data tengo entendido que hace referencia al movimiento de dejar \"disponible\" la informacion\n",
    "de las bases de datos al publico en general, sin mayores obstaculos, lo cual contribuye a la posibilidad\n",
    "de mayores y mejores iniciativas a la innovación."
   ]
  }
 ],
 "metadata": {
  "kernelspec": {
   "display_name": "Python 3",
   "language": "python",
   "name": "python3"
  },
  "language_info": {
   "codemirror_mode": {
    "name": "ipython",
    "version": 3
   },
   "file_extension": ".py",
   "mimetype": "text/x-python",
   "name": "python",
   "nbconvert_exporter": "python",
   "pygments_lexer": "ipython3",
   "version": "3.7.1"
  }
 },
 "nbformat": 4,
 "nbformat_minor": 2
}
